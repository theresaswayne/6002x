{
 "cells": [
  {
   "cell_type": "markdown",
   "metadata": {},
   "source": [
    "# Interactive Bioimage Analysis with Python and Jupyter\n",
    "#### **Guillaume Witz**, Science IT Support, Microscopy Imaging Center, Bern University"
   ]
  },
  {
   "cell_type": "markdown",
   "metadata": {},
   "source": [
    "## Table of contents\n",
    "\n",
    "### [1. Python Bacics](01-Python_bare_minimum.ipynb)\n",
    "\n",
    "### [2. Numpy intro with focus on images](02-Numpy_images.ipynb)\n",
    "\n",
    "### [3. Matplotlib intro with focus on images](03-Matplotlib_images.ipynb)\n",
    "\n",
    "### [4. Importing images](04-Image_import.ipynb)\n",
    "\n",
    "### [5. Image filtering and thresholding](05-Filtering_thresholding.ipynb)\n",
    "\n",
    "### [6. Masks and region measurements](06-Binary_operations.ipynb)\n",
    "\n",
    "### [7. Writing re-usable code](07-Packaging_code.ipynb)\n",
    "\n",
    "### [8. Cell Tracking](08-Time_lapse_tracking.ipynb)\n",
    "\n",
    "### [9. Object detection by pattern matching](09-Pattern_matching.ipynb)\n",
    "\n",
    "### [10. Watershed segmentation](10-Watershed.ipynb)\n",
    "\n",
    "### [11. 3D image processing and visualization](11-3D_image_processing.ipynb)\n",
    "\n",
    "### [12. Image registration](12-Registration.ipynb)\n",
    "\n",
    "### [13. Machine Learning segmentation (Stardist/Cellpose)](13-ML_based_segmentation.ipynb)\n",
    "\n",
    "### [14. Mixing Python and Fiji](14-PyImageJ.ipynb)"
   ]
  },
  {
   "cell_type": "code",
   "execution_count": null,
   "metadata": {},
   "outputs": [],
   "source": []
  }
 ],
 "metadata": {
  "anaconda-cloud": {},
  "kernelspec": {
   "display_name": "Python 3",
   "language": "python",
   "name": "python3"
  },
  "language_info": {
   "codemirror_mode": {
    "name": "ipython",
    "version": 3
   },
   "file_extension": ".py",
   "mimetype": "text/x-python",
   "name": "python",
   "nbconvert_exporter": "python",
   "pygments_lexer": "ipython3",
   "version": "3.7.6"
  },
  "toc": {
   "base_numbering": 1,
   "nav_menu": {},
   "number_sections": false,
   "sideBar": true,
   "skip_h1_title": false,
   "title_cell": "Table of Contents",
   "title_sidebar": "Contents",
   "toc_cell": false,
   "toc_position": {},
   "toc_section_display": true,
   "toc_window_display": true
  }
 },
 "nbformat": 4,
 "nbformat_minor": 2
}
